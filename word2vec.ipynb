{
 "cells": [
  {
   "cell_type": "code",
   "execution_count": 5,
   "metadata": {},
   "outputs": [],
   "source": [
    "import spacy\n",
    "import langdetect\n",
    "import glob\n",
    "nlp = spacy.load('en')\n",
    "from nltk.tokenize import sent_tokenize\n",
    "import pandas as pd\n",
    "import numpy as np\n",
    "import re\n",
    "from gensim.models.phrases import Phrases,Phraser\n",
    "from nltk.corpus import stopwords\n",
    "stopwords = list(set(stopwords.words('english')))\n",
    "import random\n",
    "from modules import utils"
   ]
  },
  {
   "cell_type": "code",
   "execution_count": 2,
   "metadata": {},
   "outputs": [
    {
     "data": {
      "text/plain": [
       "2941"
      ]
     },
     "execution_count": 2,
     "metadata": {},
     "output_type": "execute_result"
    }
   ],
   "source": [
    "crawled = pd.read_csv(\"data/crawl_data(7379 pages - employment-social-development).csv\").drop_duplicates(subset=[\"text\"], keep=\"first\")\n",
    "crawled[\"lang\"] = crawled.text.apply(lambda x: langdetect.detect(str(x)))\n",
    "crawled = crawled[crawled[\"lang\"] == \"en\"].text;len(crawled)"
   ]
  },
  {
   "cell_type": "code",
   "execution_count": 22,
   "metadata": {},
   "outputs": [
    {
     "data": {
      "text/plain": [
       "0    Employment  and Social Development Canada (ESD...\n",
       "1    The Government of Canada is prepared to suppor...\n",
       "2    The Government of Canada launches funding oppo...\n",
       "3    Minister Duclos releases report on nationwide ...\n",
       "4    Hire a temporary worker through the Temporary ...\n",
       "Name: text, dtype: object"
      ]
     },
     "execution_count": 22,
     "metadata": {},
     "output_type": "execute_result"
    }
   ],
   "source": [
    "crawled.head()"
   ]
  },
  {
   "cell_type": "code",
   "execution_count": 23,
   "metadata": {},
   "outputs": [],
   "source": [
    "#program_files = glob.glob('data/program_descriptions/*.csv')\n",
    "#programs = pd.concat([pd.read_csv(file) for file in program_files]).reset_index()[[\"Program\",\"Description\"]]\n",
    "#len(programs)"
   ]
  },
  {
   "cell_type": "code",
   "execution_count": 24,
   "metadata": {},
   "outputs": [],
   "source": [
    "#programs.tail()"
   ]
  },
  {
   "cell_type": "code",
   "execution_count": 25,
   "metadata": {},
   "outputs": [],
   "source": [
    "crawled_corpus = crawled.str.cat(sep=\" \")\n",
    "#programs_corpus = programs.Description.str.cat(sep=\" \")\n",
    "corpus = crawled_corpus# + programs_corpus"
   ]
  },
  {
   "cell_type": "code",
   "execution_count": 26,
   "metadata": {},
   "outputs": [
    {
     "data": {
      "text/plain": [
       "\"Employment  and Social Development Canada (ESDC) works to improve the standard of living  and quality of life for all Canadians. We do this by promoting a labour force  that is highly skilled. We also promote an efficient and inclusive labour  market. The Government of Canada is ready to support workers and their families who are affected by the April 24, 2017, U.S. decision to impose duties on Canadian softwood lumber products. Tab 1: Enabling Accessibility Fund: mid-sized projects Tab 2: Help design the new Canada Service Corps program Tab 3: See what Canadians had to say about reducing poverty Help design the new Canada Service Corps program See what Canadians had to say about reducing poverty Benefits, Canada EI Commission, Wage Earners Protection Program, and economic regions. Payment dates for recurring Government of Canada benefit payments. Job opportunities, work permits, Social Insurance Number, criminal record checks and security clearances. Canada Pension Plan, Old Age Security pension and related benefits, the Canadian retirement income calculator and retirement planning. Maternity and parental leave, Employment Insurance, Canada Child Benefit, and survivor's pension. Pensions, child benefits, savings plans, education funding, and gas tax refund program. Temporary foreign workers, employer compliance and ineligibility. Explore careers by education program, apprenticeship, and training programs. GST/HST housing rebate, buying a home, and financial assistance to fix your home. Grants and contributions that support jobs, training, and social development. Labour laws, workplace standards, health and safety standards and labour relations. Student financial assistance for college and university; apprenticeship, continuing education, co-op, and internships. Our mandate, portfolio, partners, access to information and transparency. Benefits for Indigenous Peoples, active Forces members, veterans, people with a disability, retirees, and victims. Evaluations, audits, annual reports, and other departmental and program reports. Homelessness, seniors, poverty, disability, children and families, and not-for-profit organizations. Promotional campaigns and initiatives led by ESDC. Login to My Service Canada account Login to the Internet Reporting Service Access Record of Employment on the Web Old Age Security and Canada Pension Plan payment dates Contact Employment and Social Development Canada Temporary Foreign Worker program primary agriculture review How to prevent and reduce homelessness The Labour Program promotes safe, healthy, cooperative and productive workplaces that benefit us all. Service Canada provides Canadians with a single point of access to government services and benefits Minister of Families, Children and Social Development Minister of Employment, Workforce Development and Labour Minister of Science and Minister of Sport and Persons with Disabilities Sign up to get the latest updates from Minister Duclos on ESDC’s programs, policies and services. Register today for your GCOS account Create an online account and be ready to submit grants and contributions funding applications online. See what jobs are available at ESDC/ Service Canada. The information you provide through this survey is collected under the authority of the Department of Employment and Social Development Act (DESDA) for the purpose of measuring the performance of Canada.ca and continually improving the website. Your participation is voluntary. Please do not include sensitive personal information in the message box, such as your name, address, Social Insurance Number, personal finances, medical or work history or any other information by which you or anyone else can be identified by your comments or views. Any personal information collected will be administered in accordance with the Department of Employment and Social Development Act and other applicable privacy laws governing the protection of personal information under the control of the Departmen\""
      ]
     },
     "execution_count": 26,
     "metadata": {},
     "output_type": "execute_result"
    }
   ],
   "source": [
    "corpus[:4000]"
   ]
  },
  {
   "cell_type": "code",
   "execution_count": 45,
   "metadata": {},
   "outputs": [],
   "source": [
    "corpus_clean = re.sub('[^a-zA-Z0-9\\s\\.]+', '', corpus).lower()\n",
    "corpus_clean = re.sub(\"\\s{2,}\",\" \",corpus_clean)"
   ]
  },
  {
   "cell_type": "code",
   "execution_count": 46,
   "metadata": {},
   "outputs": [
    {
     "data": {
      "text/plain": [
       "'employment and social development canada esdc works to improve the standard of living and quality of life for all canadians. we do this by promoting a labour force that is highly skilled. we also promote an efficient and inclusive labour market. the government of canada is ready to support workers and their families who are affected by the april 24 2017 u.s. decision to impose duties on canadian softwood lumber products. tab 1 enabling accessibility fund midsized projects tab 2 help design the new canada service corps program tab 3 see what canadians had to say about reducing poverty help design the new canada service corps program see what canadians had to say about reducing poverty benefits canada ei commission wage earners protection program and economic regions. payment dates for recur'"
      ]
     },
     "execution_count": 46,
     "metadata": {},
     "output_type": "execute_result"
    }
   ],
   "source": [
    "corpus_clean[:800]"
   ]
  },
  {
   "cell_type": "code",
   "execution_count": 47,
   "metadata": {},
   "outputs": [
    {
     "data": {
      "text/plain": [
       "148188"
      ]
     },
     "execution_count": 47,
     "metadata": {},
     "output_type": "execute_result"
    }
   ],
   "source": [
    "sents = sent_tokenize(corpus_clean)\n",
    "sents = list(set(sents))\n",
    "sents = [re.sub('[^a-zA-Z0-9\\s]+', '', sent) for sent in sents];len(sents)"
   ]
  },
  {
   "cell_type": "code",
   "execution_count": 49,
   "metadata": {},
   "outputs": [
    {
     "data": {
      "text/plain": [
       "'the submitters say that the failed to provide a fair process for the registration of the new unions and failed to protect union supporters from discrimination and intimidation by company officials'"
      ]
     },
     "execution_count": 49,
     "metadata": {},
     "output_type": "execute_result"
    }
   ],
   "source": [
    "sents[1]"
   ]
  },
  {
   "cell_type": "code",
   "execution_count": 50,
   "metadata": {},
   "outputs": [],
   "source": [
    "#sents_clean = [re.sub('[^a-zA-Z0-9\\s]+', '', sent).lower() for sent in sents];sents_clean[0]"
   ]
  },
  {
   "cell_type": "code",
   "execution_count": 51,
   "metadata": {},
   "outputs": [
    {
     "data": {
      "text/plain": [
       "['the',\n",
       " 'submitters',\n",
       " 'say',\n",
       " 'that',\n",
       " 'the',\n",
       " 'failed',\n",
       " 'to',\n",
       " 'provide',\n",
       " 'a',\n",
       " 'fair',\n",
       " 'process',\n",
       " 'for',\n",
       " 'the',\n",
       " 'registration',\n",
       " 'of',\n",
       " 'the',\n",
       " 'new',\n",
       " 'unions',\n",
       " 'and',\n",
       " 'failed',\n",
       " 'to',\n",
       " 'protect',\n",
       " 'union',\n",
       " 'supporters',\n",
       " 'from',\n",
       " 'discrimination',\n",
       " 'and',\n",
       " 'intimidation',\n",
       " 'by',\n",
       " 'company',\n",
       " 'officials']"
      ]
     },
     "execution_count": 51,
     "metadata": {},
     "output_type": "execute_result"
    }
   ],
   "source": [
    "sents_stream = [sent.split() for sent in sents];sents_stream[1]"
   ]
  },
  {
   "cell_type": "markdown",
   "metadata": {},
   "source": [
    "## Generate N-Grams From Co-Occuring Terms"
   ]
  },
  {
   "cell_type": "markdown",
   "metadata": {},
   "source": [
    "\"default\" scoring: <i>from “Efficient Estimaton of Word Representations in Vector Space” by\n",
    "Mikolov, et. al.: (count(worda followed by wordb) - min_count) * N / (count(worda) * count(wordb)) > threshold`, where N is the total vocabulary size.</i>\n",
    "\n",
    "\n",
    "\"npmi\" scoring: <i>normalized pointwise mutual information, from “Normalized (Pointwise) Mutual\n",
    "Information in Colocation Extraction” by Gerlof Bouma: ln(prop(worda followed by wordb) / (prop(worda)*prop(wordb))) / - ln(prop(worda followed by wordb) where prop(n) is the count of n / the count of everything in the entire corpus.</i>"
   ]
  },
  {
   "cell_type": "code",
   "execution_count": 52,
   "metadata": {},
   "outputs": [],
   "source": [
    "def generate_n_gram_transformers(stream,n_gram = 3,scoring=\"default\",min_count=5,threshold=10,common_terms=None):\n",
    "    streams = [stream]    \n",
    "    grams = [stream]\n",
    "    for n in range(1,n_gram):\n",
    "        gram = Phraser(Phrases(streams[-1],scoring=scoring,min_count=min_count,threshold=threshold,common_terms=common_terms))\n",
    "        streams.append(list(gram[streams[-1]]))\n",
    "        grams.append(gram)\n",
    "        \n",
    "    return grams\n",
    "        "
   ]
  },
  {
   "cell_type": "code",
   "execution_count": 53,
   "metadata": {},
   "outputs": [],
   "source": [
    "_,to_bigrams,to_trigrams,to_quadgrams = generate_n_gram_transformers(sents_stream,n_gram=4,\n",
    "                                                   scoring=\"default\",min_count=30,\n",
    "                                                   threshold=10,common_terms=stopwords)"
   ]
  },
  {
   "cell_type": "code",
   "execution_count": 54,
   "metadata": {},
   "outputs": [],
   "source": [
    "quad_stream = list(to_quadgrams[to_trigrams[to_bigrams[sents_stream]]])\n",
    "tri_stream = list(to_trigrams[to_bigrams[sents_stream]])\n",
    "quad_sents = [' '.join(sent) for sent in quad_stream]\n",
    "tri_sents = [' '.join(sent) for sent in tri_stream]"
   ]
  },
  {
   "cell_type": "code",
   "execution_count": 66,
   "metadata": {},
   "outputs": [
    {
     "data": {
      "text/plain": [
       "['the',\n",
       " 'basic_needs',\n",
       " 'amount',\n",
       " 'helps',\n",
       " 'with',\n",
       " 'the',\n",
       " 'cost',\n",
       " 'of',\n",
       " 'food',\n",
       " 'clothing',\n",
       " 'transportation',\n",
       " 'and',\n",
       " 'necessary',\n",
       " 'personal',\n",
       " 'items',\n",
       " 'for',\n",
       " 'the',\n",
       " 'recipient',\n",
       " 'a',\n",
       " 'spouse',\n",
       " 'and',\n",
       " 'any',\n",
       " 'dependent_children',\n",
       " 'or',\n",
       " 'dependent',\n",
       " 'adults',\n",
       " 'if',\n",
       " 'applicable']"
      ]
     },
     "execution_count": 66,
     "metadata": {},
     "output_type": "execute_result"
    }
   ],
   "source": [
    "quad_stream[random.randint(0,len(quad_stream))]"
   ]
  },
  {
   "cell_type": "markdown",
   "metadata": {},
   "source": [
    "## Word2Vec"
   ]
  },
  {
   "cell_type": "code",
   "execution_count": 67,
   "metadata": {},
   "outputs": [],
   "source": [
    "from gensim.models.word2vec import Word2Vec"
   ]
  },
  {
   "cell_type": "code",
   "execution_count": 131,
   "metadata": {},
   "outputs": [],
   "source": [
    "WORD2VEC_EMBEDDING_DIM = 50"
   ]
  },
  {
   "cell_type": "code",
   "execution_count": 106,
   "metadata": {},
   "outputs": [],
   "source": [
    "model = Word2Vec(quad_stream, size=WORD2VEC_EMBEDDING_DIM, window=12, min_count=30, workers=4)"
   ]
  },
  {
   "cell_type": "code",
   "execution_count": 107,
   "metadata": {},
   "outputs": [
    {
     "data": {
      "text/plain": [
       "[('permanent_resident', 0.7319332957267761),\n",
       " ('work_permits', 0.7219541072845459),\n",
       " ('foreign', 0.7193650603294373),\n",
       " ('canadian_citizens', 0.7176936864852905),\n",
       " ('province_of_quebec', 0.7137880325317383),\n",
       " ('permanent_residence', 0.7039188742637634),\n",
       " ('certificate', 0.6946704983711243),\n",
       " ('hire_a_temporary', 0.6796412467956543),\n",
       " ('foreign_nationals', 0.6738460063934326),\n",
       " ('work_permit', 0.6542705297470093)]"
      ]
     },
     "execution_count": 107,
     "metadata": {},
     "output_type": "execute_result"
    }
   ],
   "source": [
    "model.wv.most_similar(\"visa\")"
   ]
  },
  {
   "cell_type": "code",
   "execution_count": 114,
   "metadata": {},
   "outputs": [],
   "source": [
    "model.wv.save_word2vec_format(\"data/word2vec_esdc.vec\")"
   ]
  },
  {
   "cell_type": "code",
   "execution_count": 10,
   "metadata": {},
   "outputs": [],
   "source": [
    "pretrained_embeddings = utils.load_embedding_model(\"data/wiki-news-300d-1M-subword.vec\")"
   ]
  },
  {
   "cell_type": "code",
   "execution_count": 133,
   "metadata": {},
   "outputs": [
    {
     "data": {
      "text/plain": [
       "(10545, 999995)"
      ]
     },
     "execution_count": 133,
     "metadata": {},
     "output_type": "execute_result"
    }
   ],
   "source": [
    "len(model.wv.vocab.keys()),len(pretrained_embeddings)"
   ]
  },
  {
   "cell_type": "markdown",
   "metadata": {},
   "source": [
    "## Sidecar Approach  -- Concatenate the Trained Embeddings to the Pretrained Embeddings "
   ]
  },
  {
   "cell_type": "code",
   "execution_count": 138,
   "metadata": {},
   "outputs": [],
   "source": [
    "PRETRAINED_DIM = 300\n",
    "CONCAT_DIM = PRETRAINED_DIM+WORD2VEC_EMBEDDING_DIM\n",
    "concat_embeddings = {}\n",
    "for key,vec in pretrained_embeddings.items():\n",
    "    if key in model.wv.vocab:\n",
    "        concat_embeddings[key] = np.hstack((vec,model.wv[key]))\n",
    "    else:\n",
    "        concat_embeddings[key] = np.hstack((vec,np.zeros(WORD2VEC_EMBEDDING_DIM)))\n",
    "for key in model.wv.vocab.keys():\n",
    "    if key not in concat_embeddings:\n",
    "        concat_embeddings[key] = np.hstack((np.zeros(PRETRAINED_DIM),model.wv[key]))"
   ]
  },
  {
   "cell_type": "code",
   "execution_count": 143,
   "metadata": {},
   "outputs": [
    {
     "data": {
      "text/plain": [
       "(True, True)"
      ]
     },
     "execution_count": 143,
     "metadata": {},
     "output_type": "execute_result"
    }
   ],
   "source": [
    "\"hockey\" in concat_embeddings,\"service_canada\" in concat_embeddings,"
   ]
  },
  {
   "cell_type": "code",
   "execution_count": 145,
   "metadata": {},
   "outputs": [
    {
     "data": {
      "text/plain": [
       "array([ 0.        ,  0.        ,  0.        ,  0.        ,  0.        ,\n",
       "        0.        ,  0.        ,  0.        ,  0.        ,  0.        ,\n",
       "        0.        ,  0.        ,  0.        ,  0.        ,  0.        ,\n",
       "        0.        ,  0.        ,  0.        ,  0.        ,  0.        ,\n",
       "        0.        ,  0.        ,  0.        ,  0.        ,  0.        ,\n",
       "        0.        ,  0.        ,  0.        ,  0.        ,  0.        ,\n",
       "        0.        ,  0.        ,  0.        ,  0.        ,  0.        ,\n",
       "        0.        ,  0.        ,  0.        ,  0.        ,  0.        ,\n",
       "        0.        ,  0.        ,  0.        ,  0.        ,  0.        ,\n",
       "        0.        ,  0.        ,  0.        ,  0.        ,  0.        ,\n",
       "        0.        ,  0.        ,  0.        ,  0.        ,  0.        ,\n",
       "        0.        ,  0.        ,  0.        ,  0.        ,  0.        ,\n",
       "        0.        ,  0.        ,  0.        ,  0.        ,  0.        ,\n",
       "        0.        ,  0.        ,  0.        ,  0.        ,  0.        ,\n",
       "        0.        ,  0.        ,  0.        ,  0.        ,  0.        ,\n",
       "        0.        ,  0.        ,  0.        ,  0.        ,  0.        ,\n",
       "        0.        ,  0.        ,  0.        ,  0.        ,  0.        ,\n",
       "        0.        ,  0.        ,  0.        ,  0.        ,  0.        ,\n",
       "        0.        ,  0.        ,  0.        ,  0.        ,  0.        ,\n",
       "        0.        ,  0.        ,  0.        ,  0.        ,  0.        ,\n",
       "        0.        ,  0.        ,  0.        ,  0.        ,  0.        ,\n",
       "        0.        ,  0.        ,  0.        ,  0.        ,  0.        ,\n",
       "        0.        ,  0.        ,  0.        ,  0.        ,  0.        ,\n",
       "        0.        ,  0.        ,  0.        ,  0.        ,  0.        ,\n",
       "        0.        ,  0.        ,  0.        ,  0.        ,  0.        ,\n",
       "        0.        ,  0.        ,  0.        ,  0.        ,  0.        ,\n",
       "        0.        ,  0.        ,  0.        ,  0.        ,  0.        ,\n",
       "        0.        ,  0.        ,  0.        ,  0.        ,  0.        ,\n",
       "        0.        ,  0.        ,  0.        ,  0.        ,  0.        ,\n",
       "        0.        ,  0.        ,  0.        ,  0.        ,  0.        ,\n",
       "        0.        ,  0.        ,  0.        ,  0.        ,  0.        ,\n",
       "        0.        ,  0.        ,  0.        ,  0.        ,  0.        ,\n",
       "        0.        ,  0.        ,  0.        ,  0.        ,  0.        ,\n",
       "        0.        ,  0.        ,  0.        ,  0.        ,  0.        ,\n",
       "        0.        ,  0.        ,  0.        ,  0.        ,  0.        ,\n",
       "        0.        ,  0.        ,  0.        ,  0.        ,  0.        ,\n",
       "        0.        ,  0.        ,  0.        ,  0.        ,  0.        ,\n",
       "        0.        ,  0.        ,  0.        ,  0.        ,  0.        ,\n",
       "        0.        ,  0.        ,  0.        ,  0.        ,  0.        ,\n",
       "        0.        ,  0.        ,  0.        ,  0.        ,  0.        ,\n",
       "        0.        ,  0.        ,  0.        ,  0.        ,  0.        ,\n",
       "        0.        ,  0.        ,  0.        ,  0.        ,  0.        ,\n",
       "        0.        ,  0.        ,  0.        ,  0.        ,  0.        ,\n",
       "        0.        ,  0.        ,  0.        ,  0.        ,  0.        ,\n",
       "        0.        ,  0.        ,  0.        ,  0.        ,  0.        ,\n",
       "        0.        ,  0.        ,  0.        ,  0.        ,  0.        ,\n",
       "        0.        ,  0.        ,  0.        ,  0.        ,  0.        ,\n",
       "        0.        ,  0.        ,  0.        ,  0.        ,  0.        ,\n",
       "        0.        ,  0.        ,  0.        ,  0.        ,  0.        ,\n",
       "        0.        ,  0.        ,  0.        ,  0.        ,  0.        ,\n",
       "        0.        ,  0.        ,  0.        ,  0.        ,  0.        ,\n",
       "        0.        ,  0.        ,  0.        ,  0.        ,  0.        ,\n",
       "        0.        ,  0.        ,  0.        ,  0.        ,  0.        ,\n",
       "        0.        ,  0.        ,  0.        ,  0.        ,  0.        ,\n",
       "        0.        ,  0.        ,  0.        ,  0.        ,  0.        ,\n",
       "        0.        ,  0.        ,  0.        ,  0.        ,  0.        ,\n",
       "        0.        ,  0.        ,  0.        ,  0.        ,  0.        ,\n",
       "        0.        ,  0.        ,  0.        ,  0.        ,  0.        ,\n",
       "        0.        ,  0.        ,  0.        ,  0.        ,  0.        ,\n",
       "        0.        ,  0.        ,  0.        ,  0.        ,  0.        ,\n",
       "        0.95610821,  1.13879669,  1.31108463, -3.88486338,  0.22455075,\n",
       "       -0.26893276,  1.64776421, -0.50704038, -0.85093158, -2.05103564,\n",
       "       -2.21575856,  3.46213222,  1.05863035,  0.04159436,  2.50854135,\n",
       "       -2.11173391, -0.8367492 , -0.94610792,  1.69707763, -0.67772132,\n",
       "        5.33366823, -5.80828285,  0.92107821, -1.72345972, -1.50423801,\n",
       "        1.05044365, -0.85805959, -2.74786043, -2.11163306, -4.00064182,\n",
       "       -1.90772223,  1.15955698, -3.48145819, -1.63030064, -2.04774404,\n",
       "       -1.08133841,  0.88081282, -1.80443799,  3.41742682,  0.08990975,\n",
       "       -0.42469925,  1.3394767 ,  0.50858063, -1.00505698,  3.39482665,\n",
       "        0.95408374, -2.44847536,  3.5178473 , -4.15115404, -3.09692574])"
      ]
     },
     "execution_count": 145,
     "metadata": {},
     "output_type": "execute_result"
    }
   ],
   "source": [
    "concat_embeddings[\"service_canada\"]"
   ]
  },
  {
   "cell_type": "code",
   "execution_count": null,
   "metadata": {},
   "outputs": [],
   "source": []
  }
 ],
 "metadata": {
  "kernelspec": {
   "display_name": "Python 3",
   "language": "python",
   "name": "python3"
  },
  "language_info": {
   "codemirror_mode": {
    "name": "ipython",
    "version": 3
   },
   "file_extension": ".py",
   "mimetype": "text/x-python",
   "name": "python",
   "nbconvert_exporter": "python",
   "pygments_lexer": "ipython3",
   "version": "3.6.5"
  }
 },
 "nbformat": 4,
 "nbformat_minor": 2
}
