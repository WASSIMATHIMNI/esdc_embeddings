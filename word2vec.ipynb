{
 "cells": [
  {
   "cell_type": "code",
   "execution_count": 1,
   "metadata": {},
   "outputs": [],
   "source": [
    "import spacy\n",
    "import langdetect\n",
    "import glob\n",
    "nlp = spacy.load('en')\n",
    "from nltk.tokenize import sent_tokenize\n",
    "import pandas as pd\n",
    "import numpy as np\n",
    "import re\n",
    "from gensim.models.phrases import Phrases,Phraser\n",
    "from nltk.corpus import stopwords\n",
    "stopwords = list(set(stopwords.words('english')))\n",
    "import random"
   ]
  },
  {
   "cell_type": "code",
   "execution_count": 2,
   "metadata": {},
   "outputs": [
    {
     "data": {
      "text/plain": [
       "2941"
      ]
     },
     "execution_count": 2,
     "metadata": {},
     "output_type": "execute_result"
    }
   ],
   "source": [
    "crawled = pd.read_csv(\"data/crawl_data(7379 pages - employment-social-development).csv\").drop_duplicates(subset=[\"text\"], keep=\"first\")\n",
    "crawled[\"lang\"] = crawled.text.apply(lambda x: langdetect.detect(str(x)))\n",
    "crawled = crawled[crawled[\"lang\"] == \"en\"].text;len(crawled)"
   ]
  },
  {
   "cell_type": "code",
   "execution_count": 3,
   "metadata": {},
   "outputs": [
    {
     "data": {
      "text/plain": [
       "7370    Status report on Transformational and Major Cr...\n",
       "7373    Examples for independent workers or profession...\n",
       "7374    User Fees, Regulatory Charges and External Fee...\n",
       "7377    Consolidated Financial Statements (Unaudited) ...\n",
       "7378    Annex to the Statement of management responsib...\n",
       "Name: text, dtype: object"
      ]
     },
     "execution_count": 3,
     "metadata": {},
     "output_type": "execute_result"
    }
   ],
   "source": [
    "crawled.tail()"
   ]
  },
  {
   "cell_type": "code",
   "execution_count": 4,
   "metadata": {},
   "outputs": [
    {
     "data": {
      "text/plain": [
       "42"
      ]
     },
     "execution_count": 4,
     "metadata": {},
     "output_type": "execute_result"
    }
   ],
   "source": [
    "program_files = glob.glob('data/program_descriptions/*.csv')\n",
    "programs = pd.concat([pd.read_csv(file) for file in program_files]).reset_index()[[\"Program\",\"Description\"]]\n",
    "len(programs)"
   ]
  },
  {
   "cell_type": "code",
   "execution_count": 5,
   "metadata": {},
   "outputs": [
    {
     "data": {
      "text/html": [
       "<div>\n",
       "<style scoped>\n",
       "    .dataframe tbody tr th:only-of-type {\n",
       "        vertical-align: middle;\n",
       "    }\n",
       "\n",
       "    .dataframe tbody tr th {\n",
       "        vertical-align: top;\n",
       "    }\n",
       "\n",
       "    .dataframe thead th {\n",
       "        text-align: right;\n",
       "    }\n",
       "</style>\n",
       "<table border=\"1\" class=\"dataframe\">\n",
       "  <thead>\n",
       "    <tr style=\"text-align: right;\">\n",
       "      <th></th>\n",
       "      <th>Program</th>\n",
       "      <th>Description</th>\n",
       "    </tr>\n",
       "  </thead>\n",
       "  <tbody>\n",
       "    <tr>\n",
       "      <th>37</th>\n",
       "      <td>Canada Child Benefit</td>\n",
       "      <td>The Canada child benefit (CCB) is a tax-free m...</td>\n",
       "    </tr>\n",
       "    <tr>\n",
       "      <th>38</th>\n",
       "      <td>Early Learning and Child Care</td>\n",
       "      <td>Early learning and child care needs across the...</td>\n",
       "    </tr>\n",
       "    <tr>\n",
       "      <th>39</th>\n",
       "      <td>Indigenous Early Learning and Child Care</td>\n",
       "      <td>The Government of Canada believes that all Can...</td>\n",
       "    </tr>\n",
       "    <tr>\n",
       "      <th>40</th>\n",
       "      <td>Canadian poverty reduction</td>\n",
       "      <td>The Government of Canada is committed to devel...</td>\n",
       "    </tr>\n",
       "    <tr>\n",
       "      <th>41</th>\n",
       "      <td>Social Innovation and Social Finance</td>\n",
       "      <td>Social innovation is about developing new solu...</td>\n",
       "    </tr>\n",
       "  </tbody>\n",
       "</table>\n",
       "</div>"
      ],
      "text/plain": [
       "                                     Program  \\\n",
       "37                      Canada Child Benefit   \n",
       "38             Early Learning and Child Care   \n",
       "39  Indigenous Early Learning and Child Care   \n",
       "40                Canadian poverty reduction   \n",
       "41      Social Innovation and Social Finance   \n",
       "\n",
       "                                          Description  \n",
       "37  The Canada child benefit (CCB) is a tax-free m...  \n",
       "38  Early learning and child care needs across the...  \n",
       "39  The Government of Canada believes that all Can...  \n",
       "40  The Government of Canada is committed to devel...  \n",
       "41  Social innovation is about developing new solu...  "
      ]
     },
     "execution_count": 5,
     "metadata": {},
     "output_type": "execute_result"
    }
   ],
   "source": [
    "programs.tail()"
   ]
  },
  {
   "cell_type": "code",
   "execution_count": 6,
   "metadata": {},
   "outputs": [],
   "source": [
    "crawled_corpus = crawled.str.cat(sep=\" \")\n",
    "programs_corpus = programs.Description.str.cat(sep=\" \")\n",
    "corpus = crawled_corpus + programs_corpus"
   ]
  },
  {
   "cell_type": "code",
   "execution_count": 7,
   "metadata": {},
   "outputs": [
    {
     "data": {
      "text/plain": [
       "\"Employment  and Social Development Canada (ESDC) works to improve the standard of living  and quality of life for all Canadians. We do this by promoting a labour force  that is highly skilled. We also promote an efficient and inclusive labour  market. The Government of Canada is ready to support workers and their families who are affected by the April 24, 2017, U.S. decision to impose duties on Canadian softwood lumber products. Tab 1: Enabling Accessibility Fund: mid-sized projects Tab 2: Help design the new Canada Service Corps program Tab 3: See what Canadians had to say about reducing poverty Help design the new Canada Service Corps program See what Canadians had to say about reducing poverty Benefits, Canada EI Commission, Wage Earners Protection Program, and economic regions. Payment dates for recurring Government of Canada benefit payments. Job opportunities, work permits, Social Insurance Number, criminal record checks and security clearances. Canada Pension Plan, Old Age Security pension and related benefits, the Canadian retirement income calculator and retirement planning. Maternity and parental leave, Employment Insurance, Canada Child Benefit, and survivor's pension. Pensions, child benefits, savings plans, education funding, and gas tax refund program. Temporary foreign workers, employer compliance and ineligibility. Explore careers by education program, apprenticeship, and training programs. GST/HST housing rebate, buying a home, and financial assistance to fix your home. Grants and contributions that support jobs, training, and social development. Labour laws, workplace standards, health and safety standards and labour relations. Student financial assistance for college and university; apprenticeship, continuing education, co-op, and internships. Our mandate, portfolio, partners, access to information and transparency. Benefits for Indigenous Peoples, active Forces members, veterans, people with a disability, retirees, and victims. Evaluations, audits, annual reports, and other departmental and program reports. Homelessness, seniors, poverty, disability, children and families, and not-for-profit organizations. Promotional campaigns and initiatives led by ESDC. Login to My Service Canada account Login to the Internet Reporting Service Access Record of Employment on the Web Old Age Security and Canada Pension Plan payment dates Contact Employment and Social Development Canada Temporary Foreign Worker program primary agriculture review How to prevent and reduce homelessness The Labour Program promotes safe, healthy, cooperative and productive workplaces that benefit us all. Service Canada provides Canadians with a single point of access to government services and benefits Minister of Families, Children and Social Development Minister of Employment, Workforce Development and Labour Minister of Science and Minister of Sport and Persons with Disabilities Sign up to get the latest updates from Minister Duclos on ESDC’s programs, policies and services. Register today for your GCOS account Create an online account and be ready to submit grants and contributions funding applications online. See what jobs are available at ESDC/ Service Canada. The information you provide through this survey is collected under the authority of the Department of Employment and Social Development Act (DESDA) for the purpose of measuring the performance of Canada.ca and continually improving the website. Your participation is voluntary. Please do not include sensitive personal information in the message box, such as your name, address, Social Insurance Number, personal finances, medical or work history or any other information by which you or anyone else can be identified by your comments or views. Any personal information collected will be administered in accordance with the Department of Employment and Social Development Act and other applicable privacy laws governing the protection of personal information under the control of the Departmen\""
      ]
     },
     "execution_count": 7,
     "metadata": {},
     "output_type": "execute_result"
    }
   ],
   "source": [
    "corpus[:4000]"
   ]
  },
  {
   "cell_type": "code",
   "execution_count": 8,
   "metadata": {},
   "outputs": [],
   "source": [
    "corpus_clean = re.sub('[^a-zA-Z0-9\\s\\.]+', '', corpus).lower()"
   ]
  },
  {
   "cell_type": "code",
   "execution_count": 9,
   "metadata": {},
   "outputs": [
    {
     "data": {
      "text/plain": [
       "'employment  and social development canada esdc works to improve the standard of living  and quality of life for all canadians. we do this by promoting a labour force  that is highly skilled. we also promote an efficient and inclusive labour  market. the government of canada is ready to support workers and their families who are affected by the april 24 2017 u.s. decision to impose duties on canadian softwood lumber products. tab 1 enabling accessibility fund midsized projects tab 2 help design the new canada service corps program tab 3 see what canadians had to say about reducing poverty help design the new canada service corps program see what canadians had to say about reducing poverty benefits canada ei commission wage earners protection program and economic regions. payment dates for r'"
      ]
     },
     "execution_count": 9,
     "metadata": {},
     "output_type": "execute_result"
    }
   ],
   "source": [
    "corpus_clean[:800]"
   ]
  },
  {
   "cell_type": "code",
   "execution_count": 10,
   "metadata": {},
   "outputs": [
    {
     "data": {
      "text/plain": [
       "152047"
      ]
     },
     "execution_count": 10,
     "metadata": {},
     "output_type": "execute_result"
    }
   ],
   "source": [
    "sents = sent_tokenize(corpus_clean)\n",
    "sents = list(set(sents))\n",
    "sents = [re.sub('[^a-zA-Z0-9\\s]+', '', sent) for sent in sents];len(sents)"
   ]
  },
  {
   "cell_type": "code",
   "execution_count": 1438,
   "metadata": {},
   "outputs": [
    {
     "data": {
      "text/plain": [
       "'hardship includes but is not confined to circumstances of personal destitution emergency or disaster'"
      ]
     },
     "execution_count": 1438,
     "metadata": {},
     "output_type": "execute_result"
    }
   ],
   "source": [
    "sents[100]"
   ]
  },
  {
   "cell_type": "code",
   "execution_count": 12,
   "metadata": {},
   "outputs": [],
   "source": [
    "#sents_clean = [re.sub('[^a-zA-Z0-9\\s]+', '', sent).lower() for sent in sents];sents_clean[0]"
   ]
  },
  {
   "cell_type": "code",
   "execution_count": 13,
   "metadata": {},
   "outputs": [
    {
     "data": {
      "text/plain": [
       "['its',\n",
       " 'important',\n",
       " 'to',\n",
       " 'note',\n",
       " 'that',\n",
       " 'of',\n",
       " 'the',\n",
       " 'online',\n",
       " 'survey',\n",
       " 'respondents',\n",
       " '1005',\n",
       " 'identified',\n",
       " 'as',\n",
       " 'female',\n",
       " 'and',\n",
       " 'only',\n",
       " '200',\n",
       " 'identified',\n",
       " 'as',\n",
       " 'male']"
      ]
     },
     "execution_count": 13,
     "metadata": {},
     "output_type": "execute_result"
    }
   ],
   "source": [
    "sents_stream = [sent.split() for sent in sents];sents_stream[1]"
   ]
  },
  {
   "cell_type": "markdown",
   "metadata": {},
   "source": [
    "\"default\" scoring: <i>from “Efficient Estimaton of Word Representations in Vector Space” by\n",
    "Mikolov, et. al.: (count(worda followed by wordb) - min_count) * N / (count(worda) * count(wordb)) > threshold`, where N is the total vocabulary size.</i>\n",
    "\n",
    "\n",
    "\"npmi\" scoring: <i>normalized pointwise mutual information, from “Normalized (Pointwise) Mutual\n",
    "Information in Colocation Extraction” by Gerlof Bouma: ln(prop(worda followed by wordb) / (prop(worda)*prop(wordb))) / - ln(prop(worda followed by wordb) where prop(n) is the count of n / the count of everything in the entire corpus.</i>"
   ]
  },
  {
   "cell_type": "code",
   "execution_count": 14,
   "metadata": {},
   "outputs": [],
   "source": [
    "def generate_n_gram_transformers(stream,n_gram = 3,scoring=\"default\",min_count=5,threshold=10,common_terms=None):\n",
    "    streams = [stream]    \n",
    "    grams = [stream]\n",
    "    for n in range(1,n_gram):\n",
    "        gram = Phraser(Phrases(streams[-1],scoring=scoring,min_count=min_count,threshold=threshold,common_terms=common_terms))\n",
    "        streams.append(list(gram[streams[-1]]))\n",
    "        grams.append(gram)\n",
    "        \n",
    "    return grams\n",
    "        "
   ]
  },
  {
   "cell_type": "code",
   "execution_count": 15,
   "metadata": {},
   "outputs": [],
   "source": [
    "_,to_bigrams,to_trigrams,to_quadgrams = generate_n_gram_transformers(sents_stream,n_gram=4,\n",
    "                                                   scoring=\"default\",min_count=30,\n",
    "                                                   threshold=10,common_terms=stopwords)"
   ]
  },
  {
   "cell_type": "code",
   "execution_count": 16,
   "metadata": {},
   "outputs": [],
   "source": [
    "quad_stream = list(to_quadgrams[to_trigrams[to_bigrams[sents_stream]]])\n",
    "tri_stream = list(to_trigrams[to_bigrams[sents_stream]])\n",
    "quad_sents = [' '.join(sent) for sent in quad_stream]\n",
    "tri_sents = [' '.join(sent) for sent in tri_stream]"
   ]
  },
  {
   "cell_type": "code",
   "execution_count": 197,
   "metadata": {},
   "outputs": [
    {
     "data": {
      "text/plain": [
       "['call_centre',\n",
       " 'accessibility',\n",
       " 'is',\n",
       " 'the',\n",
       " 'primary',\n",
       " 'frustration',\n",
       " 'for',\n",
       " 'canadians',\n",
       " 'and',\n",
       " 'needs',\n",
       " 'to',\n",
       " 'be',\n",
       " 'improved']"
      ]
     },
     "execution_count": 197,
     "metadata": {},
     "output_type": "execute_result"
    }
   ],
   "source": [
    "quad_stream[random.randint(0,len(quad_stream))]"
   ]
  },
  {
   "cell_type": "markdown",
   "metadata": {},
   "source": [
    "## Word2Vec"
   ]
  },
  {
   "cell_type": "code",
   "execution_count": 26,
   "metadata": {},
   "outputs": [],
   "source": [
    "from gensim.models.word2vec import Word2Vec"
   ]
  },
  {
   "cell_type": "code",
   "execution_count": 27,
   "metadata": {},
   "outputs": [],
   "source": [
    "model = Word2Vec(quad_stream, size=100, window=10, min_count=20, workers=4)"
   ]
  },
  {
   "cell_type": "code",
   "execution_count": 1133,
   "metadata": {},
   "outputs": [
    {
     "data": {
      "text/plain": [
       "[('jurisdictions', 0.7630330920219421),\n",
       " ('regions', 0.7117319107055664),\n",
       " ('atlantic_provinces', 0.6717230081558228),\n",
       " ('countries', 0.6685596108436584),\n",
       " ('declines', 0.6668083071708679),\n",
       " ('territories', 0.6506251692771912),\n",
       " ('largest', 0.6280949115753174),\n",
       " ('western_provinces', 0.6234663724899292),\n",
       " ('sectors', 0.6096717119216919),\n",
       " ('industries', 0.6068037152290344)]"
      ]
     },
     "execution_count": 1133,
     "metadata": {},
     "output_type": "execute_result"
    }
   ],
   "source": [
    "model.wv.most_similar(\"provinces\")"
   ]
  },
  {
   "cell_type": "code",
   "execution_count": 126,
   "metadata": {},
   "outputs": [],
   "source": [
    "model.save(\"models/word2vec_esdc.vec\")"
   ]
  }
 ],
 "metadata": {
  "kernelspec": {
   "display_name": "Python 3",
   "language": "python",
   "name": "python3"
  },
  "language_info": {
   "codemirror_mode": {
    "name": "ipython",
    "version": 3
   },
   "file_extension": ".py",
   "mimetype": "text/x-python",
   "name": "python",
   "nbconvert_exporter": "python",
   "pygments_lexer": "ipython3",
   "version": "3.6.5"
  }
 },
 "nbformat": 4,
 "nbformat_minor": 2
}
