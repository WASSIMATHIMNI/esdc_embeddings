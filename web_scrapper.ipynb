{
 "cells": [
  {
   "cell_type": "markdown",
   "metadata": {},
   "source": [
    "# Scrape Text from Government Websites"
   ]
  },
  {
   "cell_type": "code",
   "execution_count": 53,
   "metadata": {},
   "outputs": [],
   "source": [
    "import requests\n",
    "from bs4 import BeautifulSoup\n",
    "from bs4.element import Comment\n",
    "from time import sleep"
   ]
  },
  {
   "cell_type": "code",
   "execution_count": 54,
   "metadata": {},
   "outputs": [],
   "source": [
    "# specify the url\n",
    "domain = \"https://www.canada.ca\"\n",
    "root = \"https://www.canada.ca/en/employment-social-development.html\"\n",
    "queue = [root]; # FIFO (FBS exploration)\n",
    "visited = [] # Keeps track on what page have been visited\n",
    "page_texts = [] # content scapped"
   ]
  },
  {
   "cell_type": "code",
   "execution_count": 55,
   "metadata": {},
   "outputs": [],
   "source": [
    "EXTEND_TO_OUTSIDE_DOMAINS = False # Will scrape other domain content if a link referes to them\n",
    "NUM_PAGES_TO_VISIT = 10000\n",
    "PRINT_STEPS = 500\n",
    "URL_MUST_CONTAIN = \"employment-social-development\""
   ]
  },
  {
   "cell_type": "code",
   "execution_count": 56,
   "metadata": {},
   "outputs": [],
   "source": [
    "def tag_visible(element):\n",
    "    if element.parent.name in ['style', 'script', 'head', 'title', 'meta', '[document]',\"nav\",\"footer\",\"form\",\"label\",\"details\",\"summary\"]:\n",
    "        return False\n",
    "    elif isinstance(element, Comment):\n",
    "        return False\n",
    "    else:\n",
    "        return True"
   ]
  },
  {
   "cell_type": "code",
   "execution_count": 57,
   "metadata": {},
   "outputs": [
    {
     "name": "stderr",
     "output_type": "stream",
     "text": [
      "/usr/local/lib/python3.6/site-packages/bs4/element.py:1577: UserWarning: has_key is deprecated. Use has_attr(\"href\") instead.\n",
      "  key))\n"
     ]
    },
    {
     "name": "stdout",
     "output_type": "stream",
     "text": [
      "Page 500 complete(https://www.canada.ca/en/employment-social-development/services/foreign-workers/reports/2014/lmia-annual-statistics/agricultural.html#h2.5)\n",
      "Page 1000 complete(https://www.canada.ca/en/employment-social-development/services/labour-standards/reports/wage-recovery-hearing.html)\n",
      "Page 1500 complete(https://www.canada.ca/content/canadsite/en/employment-social-development/services/labour-relations/international.html)\n",
      "Page 2000 complete(https://www.canada.ca/en/employment-social-development/services/indigenous/bulletins/spring-2013.html)\n",
      "Page 2500 complete(https://www.canada.ca/en/employment-social-development/programs/disability/arc/federal-report2011/section2.html#fig2.2)\n",
      "Page 3000 complete(https://www.canada.ca/en/employment-social-development/programs/ei/ei-list/ei-roe/user-requirements/appendix-a.html)\n",
      "Page 3500 complete(https://www.canada.ca/en/employment-social-development/programs/ei/ei-list/reports/digest/chapter-23/compassionate-care-benefits.html#a23_2_4)\n",
      "Page 4000 complete(https://www.canada.ca/en/employment-social-development/programs/child-benefit/papers/progress-report-2007/page11.html)\n",
      "Page 4500 complete(https://www.canada.ca/en/employment-social-development/services/labour-standards/reports/employment-equity-data-report/tables/table14-29.html)\n",
      "Page 5000 complete(https://www.canada.ca/en/employment-social-development/programs/disability/savings/issuers/user-guide/section1.html#h2.1-h3.2-h4.3)\n",
      "Page 5500 complete(https://www.canada.ca/en/employment-social-development/programs/communities/homelessness/nhis/hifis/training/administrative/module-3.html)\n",
      "Page 6000 complete(https://www.canada.ca/en/employment-social-development/programs/ei/ei-list/reports/digest/chapter-11/provisions-payment-sickness-benefits.html#a11_5_1)\n",
      "Page 6500 complete(https://www.canada.ca/en/employment-social-development/programs/ei/ei-list/reports/digest/chapter-8/participation.html#a8_6_4)\n",
      "Page 7000 complete(https://www.canada.ca/en/employment-social-development/programs/ei/ei-list/reports/digest/chapter-24/five-special-benefits.html#a24_12_0)\n"
     ]
    }
   ],
   "source": [
    "num_visited = 0\n",
    "num_errors = 0\n",
    "while(len(queue) > 0 and num_visited < NUM_PAGES_TO_VISIT):\n",
    "    try:\n",
    "        \n",
    "        if URL_MUST_CONTAIN is not None:\n",
    "            if URL_MUST_CONTAIN not in queue[0]:\n",
    "                del queue[0]\n",
    "                continue\n",
    "                \n",
    "        if not EXTEND_TO_OUTSIDE_DOMAINS:\n",
    "            if domain not in queue[0]:\n",
    "                del queue[0]\n",
    "                continue\n",
    "            \n",
    "        if(queue[0] in visited): \n",
    "            #print(\"Page ({}) already visited\".format(queue[0]))\n",
    "            del queue[0]\n",
    "            continue\n",
    "            \n",
    "        page = requests.get(queue[0])\n",
    "        soup = BeautifulSoup(page.text, 'html.parser')\n",
    "        texts = soup.find_all('h1')[0].find_all_next(text=True)#findAll(text=True)\n",
    "        visible_texts = filter(tag_visible, texts)  \n",
    "        page_text = \" \".join([t.strip() for t in visible_texts if len(t.strip().split())>5]);\n",
    "\n",
    "        page_texts.append(page_text)\n",
    "        visited.append(queue[0])\n",
    "        \n",
    "        for link in soup(\"a\"):\n",
    "            if link.has_key('href'):\n",
    "                if '.html' in link['href']:\n",
    "                    if (\".ca\" in link['href'] or \".com\" in link['href'] or \"http:\" in link['href'] or \"www.\" in link['href']) and link['href'] not in queue:\n",
    "                        queue.append(link['href'])    \n",
    "                    elif link['href'].startswith(\"/\") and domain+link['href'] not in queue:\n",
    "                        queue.append(domain+link['href'])\n",
    "                    else:\n",
    "                        True\n",
    "                        #print(link['href'] + \" was not added to the queue (probably under a different domain):s\")\n",
    "                                     \n",
    "        num_visited+=1\n",
    "        \n",
    "        if((num_visited)%PRINT_STEPS == 0):\n",
    "            print(\"Page {} complete({})\".format(num_visited,queue[0]))\n",
    "        \n",
    "        num_errors = 0\n",
    "        del queue[0]\n",
    "        #sleep(0.5)\n",
    "\n",
    "    except Exception as e:\n",
    "        #print(\"error for page {}: \".format(num_visited) + str(e))\n",
    "        \n",
    "        num_errors += 1\n",
    "        if num_errors > 5:\n",
    "            del queue[0]\n",
    "            \n",
    "        sleep(2)\n",
    "        continue;"
   ]
  },
  {
   "cell_type": "code",
   "execution_count": 60,
   "metadata": {},
   "outputs": [
    {
     "data": {
      "text/plain": [
       "(7379, 7379, 7379, 0)"
      ]
     },
     "execution_count": 60,
     "metadata": {},
     "output_type": "execute_result"
    }
   ],
   "source": [
    "len(page_texts),len(visited),num_visited,len(queue)"
   ]
  },
  {
   "cell_type": "code",
   "execution_count": 61,
   "metadata": {},
   "outputs": [],
   "source": [
    "import pandas as pd\n",
    "df = pd.DataFrame({\"url\":visited,\"text\":page_texts})\n",
    "if(URL_MUST_CONTAIN is not None):\n",
    "    df.to_csv(\"data/crawl_data({} pages - {}).csv\".format(num_visited,URL_MUST_CONTAIN),index=False)\n",
    "else:\n",
    "    df.to_csv(\"data/crawl_data({} pages).csv\".format(num_visited),index=False)"
   ]
  },
  {
   "cell_type": "code",
   "execution_count": null,
   "metadata": {},
   "outputs": [],
   "source": []
  }
 ],
 "metadata": {
  "kernelspec": {
   "display_name": "Python 3",
   "language": "python",
   "name": "python3"
  },
  "language_info": {
   "codemirror_mode": {
    "name": "ipython",
    "version": 3
   },
   "file_extension": ".py",
   "mimetype": "text/x-python",
   "name": "python",
   "nbconvert_exporter": "python",
   "pygments_lexer": "ipython3",
   "version": "3.6.5"
  }
 },
 "nbformat": 4,
 "nbformat_minor": 2
}
