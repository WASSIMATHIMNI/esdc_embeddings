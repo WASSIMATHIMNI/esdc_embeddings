{
 "cells": [
  {
   "cell_type": "markdown",
   "metadata": {},
   "source": [
    "# Scrape Text (EN-FR) from Government Websites"
   ]
  },
  {
   "cell_type": "code",
   "execution_count": 1,
   "metadata": {},
   "outputs": [],
   "source": [
    "import requests\n",
    "from bs4 import BeautifulSoup\n",
    "from bs4.element import Comment\n",
    "from time import sleep\n",
    "import random"
   ]
  },
  {
   "cell_type": "code",
   "execution_count": 2,
   "metadata": {},
   "outputs": [],
   "source": [
    "# specify the url\n",
    "domain = \"https://www.canada.ca\"\n",
    "root = \"https://www.canada.ca/en/employment-social-development.html\"\n",
    "queue = [root]; # FIFO (FBS exploration)\n",
    "\n",
    "visited = [] # Keeps track on what page have been visited\n",
    "fr_visited = []\n",
    "\n",
    "en_contents = [] # en content scapped\n",
    "fr_contents = [] # fr content scapped"
   ]
  },
  {
   "cell_type": "code",
   "execution_count": 3,
   "metadata": {},
   "outputs": [],
   "source": [
    "EXTEND_TO_OUTSIDE_DOMAINS = False # Will scrape other domain content if a link referes to them\n",
    "NUM_PAGES_TO_VISIT = 10000\n",
    "PRINT_STEPS = 500"
   ]
  },
  {
   "cell_type": "markdown",
   "metadata": {},
   "source": [
    "## Helpers"
   ]
  },
  {
   "cell_type": "code",
   "execution_count": 4,
   "metadata": {},
   "outputs": [],
   "source": [
    "def tag_visible(element):\n",
    "    if element.parent.name in ['style', 'script', 'head', 'title', 'meta', '[document]',\"nav\",\"footer\",\"form\",\"label\",\"details\",\"summary\"]:\n",
    "        return False\n",
    "    elif isinstance(element, Comment):\n",
    "        return False\n",
    "    else:\n",
    "        return True\n",
    "    \n",
    "    \n",
    "def matches_conditions(url):\n",
    "    response = True\n",
    "    if url is None: return False\n",
    "    if url in visited: return False\n",
    "    if \"canada.ca\" not in url: return False\n",
    "    if \"employment-social-development\" not in url: return False\n",
    "    if \"/en/\" not in url: return False\n",
    "    if domain not in url: return False\n",
    "    \n",
    "    return response\n",
    "\n",
    "def soupify(url):\n",
    "        page = requests.get(url)\n",
    "        soup = BeautifulSoup(page.text, 'html.parser')\n",
    "        return soup\n",
    "    \n",
    "def get_text_from_soup(soup):\n",
    "        texts = soup.find_all('h1')[0].find_all_next(text=True)#findAll(text=True)\n",
    "        visible_texts = filter(tag_visible, texts)  \n",
    "        page_text = \" \".join([t.strip() for t in visible_texts if len(t.strip().split())>5]);\n",
    "        return page_text\n",
    "\n",
    "def get_absolute_link(link):\n",
    "    if link.has_attr('href'):\n",
    "        if '.html' in link['href']:\n",
    "            \n",
    "            url = link['href']\n",
    "            \n",
    "            if \"#\" in url:\n",
    "                url = url.split(\"#\")[0]\n",
    "                \n",
    "            if (\".ca\" in link['href'] or \".com\" in link['href'] or \"http:\" in link['href'] or \"www.\" in link['href']):\n",
    "                return url\n",
    "            \n",
    "            elif link['href'].startswith(\"/\"):\n",
    "                return domain+url\n",
    "            \n",
    "            else:\n",
    "                return None\n",
    "        \n",
    "            \n",
    "    else:\n",
    "        return None"
   ]
  },
  {
   "cell_type": "code",
   "execution_count": 5,
   "metadata": {},
   "outputs": [
    {
     "name": "stdout",
     "output_type": "stream",
     "text": [
      "error for page 139: Invalid URL 'None': No schema supplied. Perhaps you meant http://None?\n",
      "error for page 139: Invalid URL 'None': No schema supplied. Perhaps you meant http://None?\n",
      "error for page 139: Invalid URL 'None': No schema supplied. Perhaps you meant http://None?\n",
      "error for page 139: Invalid URL 'None': No schema supplied. Perhaps you meant http://None?\n",
      "error for page 139: Invalid URL 'None': No schema supplied. Perhaps you meant http://None?\n",
      "error for page 139: Invalid URL 'None': No schema supplied. Perhaps you meant http://None?\n",
      "Page 500 complete(https://www.canada.ca/en/employment-social-development/services/funding/apprenticeship-incentive-eligibility.html)\n",
      "Page 1000 complete(https://www.canada.ca/en/employment-social-development/services/health-safety/reports/complaint-resolution.html)\n",
      "Page 1500 complete(https://www.canada.ca/en/employment-social-development/services/funding/canada-summer-jobs/amounts-paid-2017/ontario.html)\n",
      "error for page 1962: Invalid URL 'None': No schema supplied. Perhaps you meant http://None?\n",
      "error for page 1962: Invalid URL 'None': No schema supplied. Perhaps you meant http://None?\n",
      "error for page 1962: Invalid URL 'None': No schema supplied. Perhaps you meant http://None?\n",
      "error for page 1962: Invalid URL 'None': No schema supplied. Perhaps you meant http://None?\n",
      "error for page 1962: Invalid URL 'None': No schema supplied. Perhaps you meant http://None?\n",
      "error for page 1962: Invalid URL 'None': No schema supplied. Perhaps you meant http://None?\n",
      "Page 2000 complete(https://www.canada.ca/en/employment-social-development/corporate/reports/departmental-plan/2018-2019/upcoming-internal-audits.html)\n",
      "Page 2500 complete(https://www.canada.ca/en/employment-social-development/services/student-financial-aid/education-savings/resp/resp-promoters/bulletin/2013-527.html)\n",
      "error for page 2892: Invalid URL 'None': No schema supplied. Perhaps you meant http://None?\n",
      "error for page 2892: Invalid URL 'None': No schema supplied. Perhaps you meant http://None?\n",
      "error for page 2892: Invalid URL 'None': No schema supplied. Perhaps you meant http://None?\n",
      "error for page 2892: Invalid URL 'None': No schema supplied. Perhaps you meant http://None?\n",
      "error for page 2892: Invalid URL 'None': No schema supplied. Perhaps you meant http://None?\n",
      "error for page 2892: Invalid URL 'None': No schema supplied. Perhaps you meant http://None?\n",
      "Page 3000 complete(https://www.canada.ca/en/employment-social-development/programs/ei/ei-list/reports/digest/chapter-11/provisions-payment-sickness-benefits.html)\n",
      "CPU times: user 10min 44s, sys: 15.3 s, total: 11min\n",
      "Wall time: 23min 23s\n"
     ]
    }
   ],
   "source": [
    "%%time\n",
    "\n",
    "num_visited = 0\n",
    "num_errors = 0\n",
    "\n",
    "while(len(queue) > 0 and num_visited < NUM_PAGES_TO_VISIT):\n",
    "    try:\n",
    "        \n",
    "        if not matches_conditions(queue[0]):\n",
    "            del queue[0]\n",
    "            continue\n",
    "            \n",
    "        soup = soupify(queue[0])\n",
    "\n",
    "        \n",
    "        for link in soup(\"a\"):\n",
    "            \n",
    "            if \"Français\" in link.get_text(): \n",
    "                french_url = get_absolute_link(link)\n",
    "                french_soup = soupify(french_url)\n",
    "                \n",
    "                fr_content = get_text_from_soup(french_soup)\n",
    "                fr_contents.append(fr_content)\n",
    "                \n",
    "                en_content = get_text_from_soup(soup)\n",
    "                en_contents.append(en_content)\n",
    "                \n",
    "                visited.append(queue[0])\n",
    "                fr_visited.append(french_url)\n",
    "            \n",
    "            \n",
    "            url = get_absolute_link(link)\n",
    "            if matches_conditions(url): queue.append(url)\n",
    "                       \n",
    "        num_visited+=1\n",
    "        \n",
    "        if((num_visited)%PRINT_STEPS == 0):\n",
    "            print(\"Page {} complete({})\".format(num_visited,queue[0]))\n",
    "        \n",
    "        num_errors = 0\n",
    "        del queue[0]\n",
    "        #sleep(0.5)\n",
    "\n",
    "    except Exception as e:\n",
    "        print(\"error for page {}: \".format(num_visited) + str(e))\n",
    "        \n",
    "        num_errors += 1\n",
    "        if num_errors > 5:\n",
    "            del queue[0]\n",
    "            \n",
    "        #sleep(2)\n",
    "        continue;"
   ]
  },
  {
   "cell_type": "code",
   "execution_count": 7,
   "metadata": {},
   "outputs": [
    {
     "data": {
      "text/plain": [
       "(3392, 3392, 3392, 3399, 0)"
      ]
     },
     "execution_count": 7,
     "metadata": {},
     "output_type": "execute_result"
    }
   ],
   "source": [
    "len(en_contents),len(fr_contents),len(visited),num_visited,len(queue)"
   ]
  },
  {
   "cell_type": "code",
   "execution_count": 25,
   "metadata": {},
   "outputs": [
    {
     "name": "stdout",
     "output_type": "stream",
     "text": [
      "https://www.canada.ca/en/employment-social-development/corporate/reports/audits/internal-audit-compliance.html https://www.canada.ca/fr/emploi-developpement-social/ministere/rapports/verification/conformite-audit-interne.html\n"
     ]
    }
   ],
   "source": [
    "idx = random.randrange(len(visited))\n",
    "print(visited[idx],fr_visited[idx])"
   ]
  },
  {
   "cell_type": "code",
   "execution_count": 18,
   "metadata": {},
   "outputs": [],
   "source": [
    "import pandas as pd\n",
    "df = pd.DataFrame({\"en_url\":visited,\"fr_url\":fr_visited,\"en_text\":en_contents,\"fr_text\":fr_contents})"
   ]
  },
  {
   "cell_type": "code",
   "execution_count": 20,
   "metadata": {},
   "outputs": [],
   "source": [
    "df.to_csv(\"data/en_fr_esdc_crawl(pages - {}).csv\".format(num_visited),index=False)"
   ]
  }
 ],
 "metadata": {
  "kernelspec": {
   "display_name": "Python 3",
   "language": "python",
   "name": "python3"
  },
  "language_info": {
   "codemirror_mode": {
    "name": "ipython",
    "version": 3
   },
   "file_extension": ".py",
   "mimetype": "text/x-python",
   "name": "python",
   "nbconvert_exporter": "python",
   "pygments_lexer": "ipython3",
   "version": "3.6.4"
  }
 },
 "nbformat": 4,
 "nbformat_minor": 2
}
